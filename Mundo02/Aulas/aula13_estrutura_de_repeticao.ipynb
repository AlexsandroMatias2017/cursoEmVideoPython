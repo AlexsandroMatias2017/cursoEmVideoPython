{
 "cells": [
  {
   "cell_type": "code",
   "execution_count": null,
   "id": "2d78562b",
   "metadata": {},
   "outputs": [],
   "source": [
    "# for i in range(1, 6): # não considera o 6 -> 5 iterações\n",
    "#     print('oi')\n",
    "#\n",
    "# for i in range(0, 6): # 6 iterações\n",
    "#     print(i)\n",
    "#\n",
    "# for i in range(1, 7): # 6 iterações\n",
    "#     print(i)\n",
    "\n",
    "#\n",
    "# for i in range(6,0,-1):\n",
    "#     print(i)\n",
    "#\n",
    "# for i in range(0,7,2):\n",
    "#     print(i)\n",
    "#\n",
    "\n",
    "# inicio = int(input('Ínicio: '))\n",
    "# final = int(input('Final: '))\n",
    "# passo = int(input('Passo: '))\n",
    "# for i in range(inicio,final,passo):\n",
    "#     print(i)\n",
    "\n",
    "soma = 0\n",
    "for i in range(0, 4):\n",
    "    n = int(input('Digite um valor: '))\n",
    "    soma += n\n",
    "print('A soma dos valores digitados vale: {}'.format(soma))"
   ]
  }
 ],
 "metadata": {
  "kernelspec": {
   "display_name": "Python 3 (ipykernel)",
   "language": "python",
   "name": "python3"
  },
  "language_info": {
   "codemirror_mode": {
    "name": "ipython",
    "version": 3
   },
   "file_extension": ".py",
   "mimetype": "text/x-python",
   "name": "python",
   "nbconvert_exporter": "python",
   "pygments_lexer": "ipython3",
   "version": "3.9.12"
  }
 },
 "nbformat": 4,
 "nbformat_minor": 5
}
