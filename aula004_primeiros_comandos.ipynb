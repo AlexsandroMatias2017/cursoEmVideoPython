{
  "nbformat": 4,
  "nbformat_minor": 0,
  "metadata": {
    "colab": {
      "name": "aula004_primeiros_comandos.ipynb",
      "provenance": [],
      "authorship_tag": "ABX9TyNCVW1ZPyPGe8UTkekLkWzd",
      "include_colab_link": true
    },
    "kernelspec": {
      "name": "python3",
      "display_name": "Python 3"
    },
    "language_info": {
      "name": "python"
    }
  },
  "cells": [
    {
      "cell_type": "markdown",
      "metadata": {
        "id": "view-in-github",
        "colab_type": "text"
      },
      "source": [
        "<a href=\"https://colab.research.google.com/github/alexsandro-matias/curso-em-video-python/blob/master/aula004_primeiros_comandos.ipynb\" target=\"_parent\"><img src=\"https://colab.research.google.com/assets/colab-badge.svg\" alt=\"Open In Colab\"/></a>"
      ]
    },
    {
      "cell_type": "code",
      "execution_count": 1,
      "metadata": {
        "colab": {
          "base_uri": "https://localhost:8080/"
        },
        "id": "Swv3yaADIBrF",
        "outputId": "2b987195-4e27-4bcd-8043-ab9912c0bc95"
      },
      "outputs": [
        {
          "output_type": "stream",
          "name": "stdout",
          "text": [
            "Qual é a seu nome? alexsandro\n",
            "Qual é a sua idade? 39\n",
            "Qual é o seu peso? 1.85\n",
            "Nome: alexsandro Idade: 39 Peso: 1.85\n"
          ]
        }
      ],
      "source": [
        "# Python 3.7.0 (v3.7.0:1bf9cc5093, Jun 27 2018, 04:06:47)\n",
        "# [MSC v.1914 32 bit (Intel)] on win32\n",
        "# Type \"copyright\", \"credits\" or \"license()\" for more information.\n",
        "# >>>\n",
        "#  RESTART: C:/Users/josiane/Documents/Alexsandro/CursoEmVideo/Python/Mundo01\n",
        "# /Aula04/aula004_Primeiros Comandos em Python_script.py\n",
        "# Qual é a sua idade? 34\n",
        "# Qual é a sua idade?\n",
        "#  RESTART: C:/Users/josiane/Documents/Alexsandro/CursoEmVideo/Python\n",
        "# /Mundo01/Aula04/aula004_Primeiros Comandos em Python_script.py\n",
        "# Qual é a seu nome? alexsandro\n",
        "# Qual é a sua idade? 34\n",
        "# Qual é o seu peso? 82.1\n",
        "# alexsandro 34 82.1\n",
        "# >>> print('Olá '+nome 'prazer em ')\n",
        "# Python 3.7.0 (v3.7.0:1bf9cc5093, Jun 27 2018, 04:06:47)\n",
        "# [MSC v.1914 32 bit (Intel)] on win32\n",
        "# SyntaxError: invalid syntax\n",
        "# >>>\n",
        "# >>>\n",
        "#  RESTART: C:/Users/josiane/Documents/Alexsandro/CursoEmVideo\n",
        "# /Python/Mundo01/Aula04/desafio_01.py\n",
        "# Qual é a seu nome? alexsandro\n",
        "# Olá alexsandro Prazer em te conhecer!\n",
        "# >>>\n",
        "#  RESTART: C:/Users/josiane/Documents/Alexsandro/CursoEmVideo\n",
        "# /Python/Mundo01/Aula04/desafio_01.py\n",
        "# Qual é a seu nome? matias\n",
        "# Olá matias ! Prazer em te conhecer!\n",
        "# >>>\n",
        "\n",
        "nome = input('Qual é a seu nome? ')\n",
        "idade = input('Qual é a sua idade? ')\n",
        "peso = input('Qual é o seu peso? ')\n",
        "\n",
        "print(\"Nome: \"+nome+\" Idade: \" + idade+\" Peso: \" + peso)"
      ]
    }
  ]
}