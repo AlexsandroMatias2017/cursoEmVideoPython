{
  "cells": [
    {
      "cell_type": "markdown",
      "metadata": {
        "id": "view-in-github",
        "colab_type": "text"
      },
      "source": [
        "<a href=\"https://colab.research.google.com/github/alexsandro-matias/curso-em-video-python/blob/master/mundo03/aulas/.ipynb_checkpoints/aula19_dicionarios-checkpoint.ipynb\" target=\"_parent\"><img src=\"https://colab.research.google.com/assets/colab-badge.svg\" alt=\"Open In Colab\"/></a>"
      ]
    },
    {
      "cell_type": "markdown",
      "source": [
        "Os dicionários são elementos representados por um par de chave e valor. a forma de representá-los é através das {}, diferente das tuplas e das listas que são representadas respectivamente por () e []. Em resumo:\n",
        "\n",
        "\n",
        "\n",
        "*  tuplas -> ( )\n",
        "*  listas -> [ ]\n",
        "*  dicionários -> { }\n",
        "\n",
        "\n",
        "\n",
        "\n",
        "\n",
        "\n"
      ],
      "metadata": {
        "id": "lT3ghjnTuD4s"
      },
      "id": "lT3ghjnTuD4s"
    },
    {
      "cell_type": "markdown",
      "source": [
        "Por exemplo, as declarações podem ser feitas da seguinte forma:"
      ],
      "metadata": {
        "id": "6H8GqWY-l_7A"
      },
      "id": "6H8GqWY-l_7A"
    },
    {
      "cell_type": "code",
      "execution_count": 1,
      "id": "42310505",
      "metadata": {
        "colab": {
          "base_uri": "https://localhost:8080/"
        },
        "id": "42310505",
        "outputId": "9ee73bee-b697-457a-e98e-036a59f844c4"
      },
      "outputs": [
        {
          "output_type": "stream",
          "name": "stdout",
          "text": [
            "[]\n"
          ]
        }
      ],
      "source": [
        "lista = list()\n",
        "dados = dict()\n",
        "dados = {'nome': 'Pedro', 'idade': 25}\n",
        "\n",
        "\n",
        "\n",
        "estado1 = {'uf': 'Rio de janeiro' , 'sigla': 'RJ'}\n",
        "estado2 = {'uf': 'São Paulo' , 'sigla': 'SP'}\n",
        "brasil = []\n",
        "brasil.append(estado1)\n",
        "brasil.append(estado2)\n",
        "#\n",
        "# print(brasil[1])\n",
        "\n",
        "# No cliclo for é necessária fazer a cópia dos valores, uma vez que:\n",
        "\n",
        "estado = dict()\n",
        "brasil = list()\n",
        "\n",
        "# for c in range(0,2):\n",
        "#     estado['uf'] = input('Unidade Federativa: ')\n",
        "#     estado['sigla'] = input('Sigla do estado: ')\n",
        "#     brasil.append(estado)\n",
        "#\n",
        "# print(brasil)\n",
        "\n",
        "# Unidade Federativa: rio\n",
        "# Sigla do estado: rj\n",
        "# Unidade Federativa: sao paulo\n",
        "# Sigla do estado: sp\n",
        "# [{'uf': 'sao paulo', 'sigla': 'sp'}, {'uf': 'sao paulo'}\n",
        "\n",
        "\n",
        "# Para evitar esse \"erro\",\n",
        "# existe um método nativo do python para fazer a cópia do dicionário .copy\n",
        "\n",
        "# for c in range(0, 2):\n",
        "#     estado['uf'] = input('Unidade Federativa: ')\n",
        "#     estado['sigla'] = input('Sigla do estado: ')\n",
        "#     brasil.append(estado.copy())\n",
        "\n",
        "print(brasil)\n"
      ]
    },
    {
      "cell_type": "code",
      "source": [
        "dados['nome']"
      ],
      "metadata": {
        "id": "Uk_08gulmjzi",
        "outputId": "72bcd104-ddfa-4234-d83f-2344029c4548",
        "colab": {
          "base_uri": "https://localhost:8080/",
          "height": 35
        }
      },
      "id": "Uk_08gulmjzi",
      "execution_count": 2,
      "outputs": [
        {
          "output_type": "execute_result",
          "data": {
            "text/plain": [
              "'Pedro'"
            ],
            "application/vnd.google.colaboratory.intrinsic+json": {
              "type": "string"
            }
          },
          "metadata": {},
          "execution_count": 2
        }
      ]
    },
    {
      "cell_type": "code",
      "source": [
        "dados['idade']"
      ],
      "metadata": {
        "id": "GyYKwjonmv-P",
        "outputId": "2fbaba3d-cc2c-4b0a-b266-d526f537ffc7",
        "colab": {
          "base_uri": "https://localhost:8080/"
        }
      },
      "id": "GyYKwjonmv-P",
      "execution_count": 3,
      "outputs": [
        {
          "output_type": "execute_result",
          "data": {
            "text/plain": [
              "25"
            ]
          },
          "metadata": {},
          "execution_count": 3
        }
      ]
    },
    {
      "cell_type": "code",
      "source": [
        "dados"
      ],
      "metadata": {
        "id": "SG83qG3vmy9I",
        "outputId": "48990255-5937-46cc-a491-b062271ab383",
        "colab": {
          "base_uri": "https://localhost:8080/"
        }
      },
      "id": "SG83qG3vmy9I",
      "execution_count": 4,
      "outputs": [
        {
          "output_type": "execute_result",
          "data": {
            "text/plain": [
              "{'nome': 'Pedro', 'idade': 25}"
            ]
          },
          "metadata": {},
          "execution_count": 4
        }
      ]
    },
    {
      "cell_type": "code",
      "source": [
        "dados['sexo'] = 'M'"
      ],
      "metadata": {
        "id": "WeufYDdBm2XC"
      },
      "id": "WeufYDdBm2XC",
      "execution_count": 5,
      "outputs": []
    },
    {
      "cell_type": "code",
      "source": [
        "del dados['idade']"
      ],
      "metadata": {
        "id": "SnbVbyXJm4sB"
      },
      "id": "SnbVbyXJm4sB",
      "execution_count": 6,
      "outputs": []
    },
    {
      "cell_type": "code",
      "source": [
        "dados"
      ],
      "metadata": {
        "id": "-hzeSv29m7Dh",
        "outputId": "016b0cba-7a6c-4cdd-e437-5d07309dec1b",
        "colab": {
          "base_uri": "https://localhost:8080/"
        }
      },
      "id": "-hzeSv29m7Dh",
      "execution_count": 7,
      "outputs": [
        {
          "output_type": "execute_result",
          "data": {
            "text/plain": [
              "{'nome': 'Pedro', 'sexo': 'M'}"
            ]
          },
          "metadata": {},
          "execution_count": 7
        }
      ]
    },
    {
      "cell_type": "markdown",
      "source": [
        "Caso a chave do dicionário não exista, no momento da atribuição uma nova chave será criada no dicionário."
      ],
      "metadata": {
        "id": "2ZT_HSI7udgo"
      },
      "id": "2ZT_HSI7udgo"
    },
    {
      "cell_type": "code",
      "source": [],
      "metadata": {
        "id": "Fq96Gfd_uryA"
      },
      "id": "Fq96Gfd_uryA",
      "execution_count": 7,
      "outputs": []
    },
    {
      "cell_type": "code",
      "source": [
        "\n",
        "filme = {\n",
        "    'título': 'Star Wars',\n",
        "    'ano': '1977',\n",
        "    'diretor': 'George Lucas',\n",
        "\n",
        "    'título': 'Avengers',\n",
        "    'ano': '2012',\n",
        "    'diretor': 'Joss Whedon',\n",
        "\n",
        "    'título': 'Matrix',\n",
        "    'ano': '1999',\n",
        "    'diretor': 'Wachowski',\n",
        "}"
      ],
      "metadata": {
        "id": "LGBukpiKn4ig"
      },
      "id": "LGBukpiKn4ig",
      "execution_count": 8,
      "outputs": []
    },
    {
      "cell_type": "code",
      "source": [
        "filme"
      ],
      "metadata": {
        "id": "Ka-t1S1Yn7Q_",
        "outputId": "8d79a3ba-6120-4436-8b73-81cc6d2ea43e",
        "colab": {
          "base_uri": "https://localhost:8080/"
        }
      },
      "id": "Ka-t1S1Yn7Q_",
      "execution_count": 9,
      "outputs": [
        {
          "output_type": "execute_result",
          "data": {
            "text/plain": [
              "{'título': 'Matrix', 'ano': '1999', 'diretor': 'Wachowski'}"
            ]
          },
          "metadata": {},
          "execution_count": 9
        }
      ]
    },
    {
      "cell_type": "code",
      "source": [
        "# filme\n",
        "# star wars       1977        George Lucas (valores)\n",
        "# titulo          ano         diretor (chaves)"
      ],
      "metadata": {
        "id": "mkR9RQ4woAWw"
      },
      "id": "mkR9RQ4woAWw",
      "execution_count": 10,
      "outputs": []
    },
    {
      "cell_type": "markdown",
      "source": [
        "\n",
        "#Retornando os valores do dicionário, ou seja, o conteúdo das"
      ],
      "metadata": {
        "id": "BlkYOBvfoFaB"
      },
      "id": "BlkYOBvfoFaB"
    },
    {
      "cell_type": "code",
      "source": [
        "\n"
      ],
      "metadata": {
        "id": "7rpmFO0GoKiC"
      },
      "id": "7rpmFO0GoKiC",
      "execution_count": 10,
      "outputs": []
    },
    {
      "cell_type": "code",
      "source": [
        "print(filme.values())"
      ],
      "metadata": {
        "id": "Q9x_pkgroiMY",
        "outputId": "d576d53b-50fc-40d1-c754-811006c65b8d",
        "colab": {
          "base_uri": "https://localhost:8080/"
        }
      },
      "id": "Q9x_pkgroiMY",
      "execution_count": 11,
      "outputs": [
        {
          "output_type": "stream",
          "name": "stdout",
          "text": [
            "dict_values(['Matrix', '1999', 'Wachowski'])\n"
          ]
        }
      ]
    },
    {
      "cell_type": "markdown",
      "source": [
        "Retornando as chaves do dicionário:\n"
      ],
      "metadata": {
        "id": "TE4Ebx4oomvQ"
      },
      "id": "TE4Ebx4oomvQ"
    },
    {
      "cell_type": "code",
      "source": [
        "filme.keys()"
      ],
      "metadata": {
        "id": "rAneiiCPorbZ",
        "outputId": "da14d1b2-96f9-4ba8-d1f6-ff7c6d18aac8",
        "colab": {
          "base_uri": "https://localhost:8080/"
        }
      },
      "id": "rAneiiCPorbZ",
      "execution_count": 12,
      "outputs": [
        {
          "output_type": "execute_result",
          "data": {
            "text/plain": [
              "dict_keys(['título', 'ano', 'diretor'])"
            ]
          },
          "metadata": {},
          "execution_count": 12
        }
      ]
    },
    {
      "cell_type": "markdown",
      "source": [
        "Retornando os valores:\n"
      ],
      "metadata": {
        "id": "JbLhpNSWovcI"
      },
      "id": "JbLhpNSWovcI"
    },
    {
      "cell_type": "code",
      "source": [
        "filme.items()"
      ],
      "metadata": {
        "id": "tBcCaPrpo0G3",
        "outputId": "c7166816-fb15-465e-9fec-5aa164fb36d3",
        "colab": {
          "base_uri": "https://localhost:8080/"
        }
      },
      "id": "tBcCaPrpo0G3",
      "execution_count": 13,
      "outputs": [
        {
          "output_type": "execute_result",
          "data": {
            "text/plain": [
              "dict_items([('título', 'Matrix'), ('ano', '1999'), ('diretor', 'Wachowski')])"
            ]
          },
          "metadata": {},
          "execution_count": 13
        }
      ]
    },
    {
      "cell_type": "code",
      "source": [
        "filme['ano']"
      ],
      "metadata": {
        "id": "xzvsVdu6oUSo",
        "outputId": "45eca870-215f-471b-9b2a-c7585773f685",
        "colab": {
          "base_uri": "https://localhost:8080/",
          "height": 35
        }
      },
      "id": "xzvsVdu6oUSo",
      "execution_count": 14,
      "outputs": [
        {
          "output_type": "execute_result",
          "data": {
            "text/plain": [
              "'1999'"
            ],
            "application/vnd.google.colaboratory.intrinsic+json": {
              "type": "string"
            }
          },
          "metadata": {},
          "execution_count": 14
        }
      ]
    },
    {
      "cell_type": "code",
      "source": [
        "for k,v in enumerate(filme.items()):\n",
        "    print(f'O {k} é {v}')"
      ],
      "metadata": {
        "id": "xNqfTgjOoZoI",
        "outputId": "c1d4394d-ce83-401c-d2da-224ef00777e1",
        "colab": {
          "base_uri": "https://localhost:8080/"
        }
      },
      "id": "xNqfTgjOoZoI",
      "execution_count": 15,
      "outputs": [
        {
          "output_type": "stream",
          "name": "stdout",
          "text": [
            "O 0 é ('título', 'Matrix')\n",
            "O 1 é ('ano', '1999')\n",
            "O 2 é ('diretor', 'Wachowski')\n"
          ]
        }
      ]
    },
    {
      "cell_type": "code",
      "source": [
        "for chave, valor in filme.items():\n",
        "    print(f'{chave} - {valor}')"
      ],
      "metadata": {
        "id": "nnGAPKf7odxT",
        "outputId": "c1843dc6-27c6-4661-e62e-aebc322c260a",
        "colab": {
          "base_uri": "https://localhost:8080/"
        }
      },
      "id": "nnGAPKf7odxT",
      "execution_count": 16,
      "outputs": [
        {
          "output_type": "stream",
          "name": "stdout",
          "text": [
            "título - Matrix\n",
            "ano - 1999\n",
            "diretor - Wachowski\n"
          ]
        }
      ]
    }
  ],
  "metadata": {
    "kernelspec": {
      "display_name": "Python 3 (ipykernel)",
      "language": "python",
      "name": "python3"
    },
    "language_info": {
      "codemirror_mode": {
        "name": "ipython",
        "version": 3
      },
      "file_extension": ".py",
      "mimetype": "text/x-python",
      "name": "python",
      "nbconvert_exporter": "python",
      "pygments_lexer": "ipython3",
      "version": "3.9.12"
    },
    "colab": {
      "provenance": [],
      "include_colab_link": true
    }
  },
  "nbformat": 4,
  "nbformat_minor": 5
}