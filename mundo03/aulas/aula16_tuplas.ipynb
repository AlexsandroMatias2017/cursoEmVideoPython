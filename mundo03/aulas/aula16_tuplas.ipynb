{
 "cells": [
  {
   "cell_type": "markdown",
   "id": "e75f5c36",
   "metadata": {},
   "source": [
    "# Variáveis Compostas\n",
    "## Tuplas, Listas e Dicionários\n",
    "- () - Tuplas - A partir do Python 3.5 o uso dos () é facultativo.\n",
    "- [] - Listas\n",
    "- {} - Dicionários\n",
    "\n"
   ]
  },
  {
   "cell_type": "markdown",
   "id": "35b6aa2c",
   "metadata": {},
   "source": [
    "Strings são variáveis consideradas compostas"
   ]
  },
  {
   "cell_type": "code",
   "execution_count": 2,
   "id": "1dee158d",
   "metadata": {},
   "outputs": [
    {
     "name": "stdout",
     "output_type": "stream",
     "text": [
      "(2, 5, 4, 5, 8, 1, 2)\n"
     ]
    }
   ],
   "source": [
    "lanche = ('Hamburguer', 'suco', 'pizza', 'pudim')\n",
    "\n"
   ]
  },
  {
   "cell_type": "markdown",
   "id": "a8aa7e3e",
   "metadata": {},
   "source": [
    "Da mesma forma, o fateamento pode ser aplicado nas tuplas."
   ]
  },
  {
   "cell_type": "code",
   "execution_count": null,
   "id": "bc67911f",
   "metadata": {},
   "outputs": [],
   "source": [
    "\n",
    "# print(lanche[0])\n",
    "# print(lanche[1:])\n",
    "# print(lanche[-1])\n",
    "# print(lanche[-2])\n",
    "# print(lanche[:2])\n",
    "# print(len(lanche))\n"
   ]
  },
  {
   "cell_type": "markdown",
   "id": "a962979a",
   "metadata": {},
   "source": [
    "As estruturas de repetição aplicadas às tuplas:\n"
   ]
  },
  {
   "cell_type": "code",
   "execution_count": null,
   "id": "b52bea2d",
   "metadata": {},
   "outputs": [],
   "source": [
    "for comida in lanche:\n",
    "    print(comida)\n"
   ]
  },
  {
   "cell_type": "markdown",
   "id": "1315140a",
   "metadata": {},
   "source": [
    "É criada uma variável chamada comida. Outra forma:\n"
   ]
  },
  {
   "cell_type": "code",
   "execution_count": null,
   "id": "853bb17a",
   "metadata": {},
   "outputs": [],
   "source": [
    "for contador in range (0,len(lanche)):\n",
    "    print(f'Eu vou comer {lanche[contador]} na posição {contador}')"
   ]
  },
  {
   "cell_type": "markdown",
   "id": "d870d40c",
   "metadata": {},
   "source": [
    "\n",
    "As tuplas são imutáveis. Não é possível trocar esses elementos.\n"
   ]
  },
  {
   "cell_type": "code",
   "execution_count": null,
   "id": "ad364837",
   "metadata": {},
   "outputs": [],
   "source": [
    "lanche[1] = 'refrigerante'\n",
    "print(lanche[1])\n",
    "#    lanche[1] = 'refrigerante'\n",
    "# TypeError: 'tuple' object does not support item assignment\n"
   ]
  },
  {
   "cell_type": "markdown",
   "id": "ca027e50",
   "metadata": {},
   "source": [
    "\n",
    "Para verificar a posição da interação\n"
   ]
  },
  {
   "cell_type": "code",
   "execution_count": null,
   "id": "4c971ff2",
   "metadata": {},
   "outputs": [],
   "source": [
    "for posicao, comida in enumerate(lanche):\n",
    "    print(f\"{comida} na posição {posicao}\")"
   ]
  },
  {
   "cell_type": "markdown",
   "id": "23065549",
   "metadata": {},
   "source": [
    "\n",
    "# Para ordenar a tupla, usamos o método sorted()"
   ]
  },
  {
   "cell_type": "code",
   "execution_count": null,
   "id": "1767083b",
   "metadata": {},
   "outputs": [],
   "source": [
    "print(sorted(lanche))\n",
    "print(lanche)\n",
    "# Saída:\n",
    "# ['Hamburguer', 'pizza', 'pudim', 'suco']\n",
    "# ('Hamburguer', 'suco', 'pizza', 'pudim')\n"
   ]
  },
  {
   "cell_type": "markdown",
   "id": "4cf585fb",
   "metadata": {},
   "source": [
    "Como a tupla é imutável, apenas ela é exibida de forma ordenada. Para isso, é necessário converter para listas para ser feita essa ordenação.\n"
   ]
  },
  {
   "cell_type": "code",
   "execution_count": null,
   "id": "e2f582fc",
   "metadata": {},
   "outputs": [],
   "source": [
    "\n",
    "a = (2, 5, 4)\n",
    "b = (5, 8, 1, 2)\n",
    "c = a + b\n",
    "print(c)\n"
   ]
  },
  {
   "cell_type": "markdown",
   "id": "753704d6",
   "metadata": {},
   "source": [
    "Concatenação de tuplas, o que não representa a mesma coisa em ordem diferente.\n"
   ]
  },
  {
   "cell_type": "code",
   "execution_count": null,
   "id": "9e01435c",
   "metadata": {},
   "outputs": [],
   "source": [
    "c = b + a\n",
    "print(c)\n"
   ]
  },
  {
   "cell_type": "markdown",
   "id": "9c166434",
   "metadata": {},
   "source": [
    "Da mesma forma que Strings, podemos utilizar alguns métodos semelhantes. Contando quantas ocorrências do número 5:\n"
   ]
  },
  {
   "cell_type": "code",
   "execution_count": null,
   "id": "7db8c677",
   "metadata": {},
   "outputs": [],
   "source": [
    "print(c.count(5))\n"
   ]
  },
  {
   "cell_type": "markdown",
   "id": "3f03c086",
   "metadata": {},
   "source": [
    "Em que a primeira posição que encontra-se determinado elemento:"
   ]
  },
  {
   "cell_type": "code",
   "execution_count": null,
   "id": "b5b06315",
   "metadata": {},
   "outputs": [],
   "source": [
    "print(c.index(8))"
   ]
  },
  {
   "cell_type": "markdown",
   "id": "d070fa5c",
   "metadata": {},
   "source": [
    "Caso, seja feita essa medição apartir de determinada posição (deslocamento):"
   ]
  },
  {
   "cell_type": "code",
   "execution_count": null,
   "id": "8b424fe5",
   "metadata": {},
   "outputs": [],
   "source": [
    "print(c.index(8, 1))\n",
    "# primeiro parâmetro - elemento | segundo - apartir de qual posição\n"
   ]
  },
  {
   "cell_type": "markdown",
   "id": "ac10f7f7",
   "metadata": {},
   "source": [
    "\n",
    "# Diferentemente de outras linguagens de programação, nas tuplas podem ser colocadas vários tipos de dados:"
   ]
  },
  {
   "cell_type": "code",
   "execution_count": null,
   "id": "b3847065",
   "metadata": {},
   "outputs": [],
   "source": [
    "pessoa = ('João', 39, 'Masculino', 83, 55)"
   ]
  },
  {
   "cell_type": "markdown",
   "id": "7bfbf75d",
   "metadata": {},
   "source": [
    "Para apagar da memória determinada tupla, usamos o método del"
   ]
  },
  {
   "cell_type": "code",
   "execution_count": null,
   "id": "7bcb92c2",
   "metadata": {},
   "outputs": [],
   "source": [
    "del(pessoa)\n",
    "print(pessoa)"
   ]
  }
 ],
 "metadata": {
  "kernelspec": {
   "display_name": "Python 3 (ipykernel)",
   "language": "python",
   "name": "python3"
  },
  "language_info": {
   "codemirror_mode": {
    "name": "ipython",
    "version": 3
   },
   "file_extension": ".py",
   "mimetype": "text/x-python",
   "name": "python",
   "nbconvert_exporter": "python",
   "pygments_lexer": "ipython3",
   "version": "3.9.12"
  }
 },
 "nbformat": 4,
 "nbformat_minor": 5
}
