{
 "cells": [
  {
   "cell_type": "code",
   "execution_count": null,
   "id": "bd72da03",
   "metadata": {},
   "outputs": [],
   "source": [
    "# módulos são adicionados para algumas funcionalidades específicas,\n",
    "# já que o Python por padrão não vem completo (built-in), ou seja,\n",
    "# um número limitado de comandos. O objetivo de é performance.\n",
    "# Nesse caso, precisamos de módulos (pacotes).\n",
    "# Para inclusão de alguma biblioteca,\n",
    "# é necessário a palavra reservada import.\n",
    "# O uso pode ser de forma completa (toda a biblioteca), através da forma:\n",
    "# import math\n",
    "\n",
    "\n",
    "# ou de forma específica, ou importação otimizada\n",
    "# from math import ceil\n",
    "# Neste caso, a importação serve para fazer o arrendondamento para cima.\n",
    "# Mesmo ela contento essa biblioteca, não preciso importar toda a biblioteca,\n",
    "# poupando um pouco mais de memória.\n",
    "# Já para fazer o arrendondamento para baixo, utiliza-se a floor.\n",
    "# Mais funcionalidades:\n",
    "# trunc - truncar - eliminar a casa decimal.\n",
    "# pow - potência - potência.\n",
    "# sqrt - square root - raiz quadrada.\n",
    "# factorial - fatorial.\n",
    "\n",
    "# # De forma completa para cálculo da raiz quadrada:\n",
    "# import math\n",
    "# numero = float(input('Digite um número: '))\n",
    "# raiz = math.sqrt(numero)\n",
    "# #\n",
    "# # Arreondando para cima\n",
    "# print('A raiz de {} é {}'.format(numero, math.floor(raiz)))\n",
    "#\n",
    "# # De forma otimizada\n",
    "# from math import sqrt, ceil, trunc, floor\n",
    "# print('A raiz de {} é {}'.format(numero, raiz))\n",
    "# numero = float(input('Digite um número: '))\n",
    "# raiz = math.sqrt(numero)\n",
    "# print('A raiz de {} é {}'.format(numero, raiz))\n",
    "\n",
    "# Exemplo para números aleatórios usando a biblioteca random\n",
    "import random\n",
    "num = random.randint(1, 10)\n",
    "print(num)\n",
    "# Para ter acesso às bibliotecas possíveis de serem importas, iremos no site:\n",
    "# https://pypi.org/\n"
   ]
  }
 ],
 "metadata": {
  "kernelspec": {
   "display_name": "Python 3 (ipykernel)",
   "language": "python",
   "name": "python3"
  },
  "language_info": {
   "codemirror_mode": {
    "name": "ipython",
    "version": 3
   },
   "file_extension": ".py",
   "mimetype": "text/x-python",
   "name": "python",
   "nbconvert_exporter": "python",
   "pygments_lexer": "ipython3",
   "version": "3.9.12"
  }
 },
 "nbformat": 4,
 "nbformat_minor": 5
}
