{
 "cells": [
  {
   "cell_type": "markdown",
   "id": "b4728b91",
   "metadata": {},
   "source": [
    "#### Funções em python também pode ser chamadas de rotinas que são ações que são repetidas constantemente. def ou definição de função, é a palavra reservada para definir as funções."
   ]
  },
  {
   "cell_type": "code",
   "execution_count": 4,
   "id": "87fbb3e6",
   "metadata": {},
   "outputs": [
    {
     "name": "stdout",
     "output_type": "stream",
     "text": [
      "______________________________\n"
     ]
    }
   ],
   "source": [
    "def mostrar_linha():\n",
    "    print('_' * 30)\n",
    "\n",
    "mostrar_linha()"
   ]
  },
  {
   "cell_type": "markdown",
   "id": "56294ab7",
   "metadata": {},
   "source": [
    "Agregando uma função dentro outra:"
   ]
  },
  {
   "cell_type": "code",
   "execution_count": 5,
   "id": "fab0952e",
   "metadata": {},
   "outputs": [],
   "source": [
    "def boas_vindas(mensagem):\n",
    "    mostrar_linha()\n",
    "    print('\\t' + mensagem)\n",
    "    mostrar_linha()"
   ]
  },
  {
   "cell_type": "code",
   "execution_count": null,
   "id": "c13a80ae",
   "metadata": {},
   "outputs": [],
   "source": [
    "nome = 'Alexsandro'\n",
    "boas_vindas(nome)"
   ]
  },
  {
   "cell_type": "code",
   "execution_count": 1,
   "id": "c4d4606e",
   "metadata": {},
   "outputs": [],
   "source": [
    "def dobra(lista):\n",
    "    for i in range(len(lista)):\n",
    "        lista[i] *= 2\n",
    "    print(lista)"
   ]
  },
  {
   "cell_type": "code",
   "execution_count": 9,
   "id": "87a36e19",
   "metadata": {},
   "outputs": [
    {
     "name": "stdout",
     "output_type": "stream",
     "text": [
      "[14, 4, 10, 0, 8]\n"
     ]
    }
   ],
   "source": [
    "valores = [7, 2, 5, 0, 4]\n",
    "dobra(valores)"
   ]
  },
  {
   "cell_type": "markdown",
   "id": "3f85e335",
   "metadata": {},
   "source": [
    "#### Em python existe um conceito de empacotamente de parâmetros. Ou seja, em funções onde não é definida a quantidade de parâmetros. Por exemplo se for criada uma função que conte a quantidade de parâmetros que foram passados."
   ]
  },
  {
   "cell_type": "code",
   "execution_count": 10,
   "id": "b34c9b79",
   "metadata": {},
   "outputs": [
    {
     "ename": "TypeError",
     "evalue": "unsupported operand type(s) for +=: 'int' and 'list'",
     "output_type": "error",
     "traceback": [
      "\u001b[1;31m---------------------------------------------------------------------------\u001b[0m",
      "\u001b[1;31mTypeError\u001b[0m                                 Traceback (most recent call last)",
      "Input \u001b[1;32mIn [10]\u001b[0m, in \u001b[0;36m<cell line: 10>\u001b[1;34m()\u001b[0m\n\u001b[0;32m      5\u001b[0m     \u001b[38;5;28mprint\u001b[39m(somatorio)\n\u001b[0;32m      8\u001b[0m lista \u001b[38;5;241m=\u001b[39m [\u001b[38;5;241m1\u001b[39m,\u001b[38;5;241m4\u001b[39m,\u001b[38;5;241m5\u001b[39m]\n\u001b[1;32m---> 10\u001b[0m \u001b[43msoma\u001b[49m\u001b[43m(\u001b[49m\u001b[43mvalores\u001b[49m\u001b[43m)\u001b[49m\n",
      "Input \u001b[1;32mIn [10]\u001b[0m, in \u001b[0;36msoma\u001b[1;34m(*numeros)\u001b[0m\n\u001b[0;32m      2\u001b[0m somatorio \u001b[38;5;241m=\u001b[39m \u001b[38;5;241m0\u001b[39m\n\u001b[0;32m      3\u001b[0m \u001b[38;5;28;01mfor\u001b[39;00m i \u001b[38;5;129;01min\u001b[39;00m numeros:\n\u001b[1;32m----> 4\u001b[0m     somatorio \u001b[38;5;241m+\u001b[39m\u001b[38;5;241m=\u001b[39m i\n\u001b[0;32m      5\u001b[0m \u001b[38;5;28mprint\u001b[39m(somatorio)\n",
      "\u001b[1;31mTypeError\u001b[0m: unsupported operand type(s) for +=: 'int' and 'list'"
     ]
    }
   ],
   "source": [
    "def soma(*numeros):\n",
    "    somatorio = 0\n",
    "    for i in numeros:\n",
    "        somatorio += i\n",
    "    print(somatorio)\n",
    "    \n",
    "\n",
    "lista = [1,4,5]\n",
    "\n",
    "soma(valores)"
   ]
  },
  {
   "cell_type": "code",
   "execution_count": 6,
   "id": "3c167577",
   "metadata": {},
   "outputs": [
    {
     "name": "stdout",
     "output_type": "stream",
     "text": [
      "Quantidade de parâmetros passados: 3\n",
      "Quantidade de parâmetros passados: 5\n"
     ]
    }
   ],
   "source": [
    "def contador(*numeros):\n",
    "    print(f'Quantidade de parâmetros passados: {len(numeros)}')\n",
    "\n",
    "contador(1, 2, 4)\n",
    "contador(1, 2, 3, 5, 9)"
   ]
  }
 ],
 "metadata": {
  "kernelspec": {
   "display_name": "Python 3 (ipykernel)",
   "language": "python",
   "name": "python3"
  },
  "language_info": {
   "codemirror_mode": {
    "name": "ipython",
    "version": 3
   },
   "file_extension": ".py",
   "mimetype": "text/x-python",
   "name": "python",
   "nbconvert_exporter": "python",
   "pygments_lexer": "ipython3",
   "version": "3.9.12"
  }
 },
 "nbformat": 4,
 "nbformat_minor": 5
}
