{
  "cells": [
    {
      "cell_type": "markdown",
      "metadata": {
        "id": "view-in-github",
        "colab_type": "text"
      },
      "source": [
        "<a href=\"https://colab.research.google.com/github/alexsandro-matias/curso-em-video-python/blob/master/Mundo03/Aulas/.ipynb_checkpoints/aula19_dicionarios-checkpoint.ipynb\" target=\"_parent\"><img src=\"https://colab.research.google.com/assets/colab-badge.svg\" alt=\"Open In Colab\"/></a>"
      ]
    },
    {
      "cell_type": "markdown",
      "source": [
        "Os dicionários são elementos representados por um par de chave e valor. a forma de representá-los é através das {}"
      ],
      "metadata": {
        "id": "lT3ghjnTuD4s"
      },
      "id": "lT3ghjnTuD4s"
    },
    {
      "cell_type": "code",
      "execution_count": 1,
      "id": "42310505",
      "metadata": {
        "id": "42310505",
        "outputId": "d3df877b-3f3e-400a-d086-00cfeddf1a71",
        "colab": {
          "base_uri": "https://localhost:8080/"
        }
      },
      "outputs": [
        {
          "output_type": "stream",
          "name": "stdout",
          "text": [
            "Unidade Federativa: RJ\n",
            "Sigla do estado: RJ\n",
            "Unidade Federativa: São Paulo\n",
            "Sigla do estado: SP\n",
            "[{'uf': 'RJ', 'sigla': 'RJ'}, {'uf': 'São Paulo', 'sigla': 'SP'}]\n"
          ]
        }
      ],
      "source": [
        "# declaração de listas\n",
        "# dados = list()\n",
        "\n",
        "\n",
        "# tuplas -> ()\n",
        "# listas -> []\n",
        "# dicionários -> {}\n",
        "\n",
        "#\n",
        "# dados = dict()\n",
        "#\n",
        "dados = {'nome': 'Pedro', 'idade': 25}\n",
        "#\n",
        "# print(dados['nome'])\n",
        "# print(dados['idade'])\n",
        "# print(dados)\n",
        "# dados['sexo'] = 'M'\n",
        "# del dados['idade']\n",
        "# print(dados)\n",
        "\n",
        "\n",
        "filme = {\n",
        "    'título': 'Star Wars',\n",
        "    'ano': '1977',\n",
        "    'diretor': 'George Lucas',\n",
        "\n",
        "    'título': 'Avengers',\n",
        "    'ano': '2012',\n",
        "    'diretor': 'Joss Whedon',\n",
        "\n",
        "    'título': 'Matrix',\n",
        "    'ano': '1999',\n",
        "    'diretor': 'Wachowski',\n",
        "}\n",
        "\n",
        "# print(locadora)\n",
        "# filme\n",
        "# star wars       1977        George Lucas (valores)\n",
        "# titulo          ano         diretor (chaves)\n",
        "\n",
        "#\n",
        "# # # Retornando os valores do dicionário, ou seja, o conteúdo das chaves\n",
        "# print(filme.values())\n",
        "# #\n",
        "# # # Retornando as chaves do dicionário:\n",
        "# print(filme.keys())\n",
        "# #\n",
        "# # # Retornando ambos os valores:\n",
        "# print(filme.items())\n",
        "\n",
        "\n",
        "# for chave, valor in filme.items():\n",
        "#     print(f'{chave} - {valor}')\n",
        "\n",
        "#\n",
        "# for k,v in enumerate(filme.items()):\n",
        "#     print(f'O {k} é {v}')\n",
        "\n",
        "\n",
        "# print(filme['ano'])\n",
        "\n",
        "\n",
        "# estado1 = {'uf': 'Rio de janeiro' , 'sigla': 'RJ'}\n",
        "# estado2 = {'uf': 'São Paulo' , 'sigla': 'SP'}\n",
        "# brasil = []\n",
        "# brasil.append(estado1)\n",
        "# brasil.append(estado2)\n",
        "#\n",
        "# print(brasil[1])\n",
        "\n",
        "# No cliclo for é necessária fazer a cópia dos valores, uma vez que:\n",
        "\n",
        "estado = dict()\n",
        "brasil = list()\n",
        "\n",
        "# for c in range(0,2):\n",
        "#     estado['uf'] = input('Unidade Federativa: ')\n",
        "#     estado['sigla'] = input('Sigla do estado: ')\n",
        "#     brasil.append(estado)\n",
        "#\n",
        "# print(brasil)\n",
        "\n",
        "# Unidade Federativa: rio\n",
        "# Sigla do estado: rj\n",
        "# Unidade Federativa: sao paulo\n",
        "# Sigla do estado: sp\n",
        "# [{'uf': 'sao paulo', 'sigla': 'sp'}, {'uf': 'sao paulo'}\n",
        "\n",
        "\n",
        "# Para evitar esse \"erro\",\n",
        "# existe um método nativo do python para fazer a cópia do dicionário .copy\n",
        "\n",
        "for c in range(0, 2):\n",
        "    estado['uf'] = input('Unidade Federativa: ')\n",
        "    estado['sigla'] = input('Sigla do estado: ')\n",
        "    brasil.append(estado.copy())\n",
        "\n",
        "print(brasil)\n"
      ]
    },
    {
      "cell_type": "markdown",
      "source": [
        "Caso a chave do dicionário não exista, no momento da atribuição uma nova chave será criada no dicionário."
      ],
      "metadata": {
        "id": "2ZT_HSI7udgo"
      },
      "id": "2ZT_HSI7udgo"
    },
    {
      "cell_type": "code",
      "source": [],
      "metadata": {
        "id": "Fq96Gfd_uryA"
      },
      "id": "Fq96Gfd_uryA",
      "execution_count": null,
      "outputs": []
    }
  ],
  "metadata": {
    "kernelspec": {
      "display_name": "Python 3 (ipykernel)",
      "language": "python",
      "name": "python3"
    },
    "language_info": {
      "codemirror_mode": {
        "name": "ipython",
        "version": 3
      },
      "file_extension": ".py",
      "mimetype": "text/x-python",
      "name": "python",
      "nbconvert_exporter": "python",
      "pygments_lexer": "ipython3",
      "version": "3.9.12"
    },
    "colab": {
      "provenance": [],
      "include_colab_link": true
    }
  },
  "nbformat": 4,
  "nbformat_minor": 5
}